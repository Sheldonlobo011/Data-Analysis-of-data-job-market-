{
 "cells": [
  {
   "cell_type": "code",
   "execution_count": 1,
   "id": "e6090b9e",
   "metadata": {},
   "outputs": [],
   "source": [
    "import numpy as np \n",
    "import pandas as pd\n",
    "import matplotlib.pyplot as plt\n",
    "import seaborn as sns"
   ]
  },
  {
   "cell_type": "code",
   "execution_count": 2,
   "id": "1c0ca2d2",
   "metadata": {},
   "outputs": [],
   "source": [
    "df = pd.read_csv('Jobs.csv')"
   ]
  },
  {
   "cell_type": "code",
   "execution_count": 3,
   "id": "2e10ce6a",
   "metadata": {},
   "outputs": [
    {
     "data": {
      "text/html": [
       "<div>\n",
       "<style scoped>\n",
       "    .dataframe tbody tr th:only-of-type {\n",
       "        vertical-align: middle;\n",
       "    }\n",
       "\n",
       "    .dataframe tbody tr th {\n",
       "        vertical-align: top;\n",
       "    }\n",
       "\n",
       "    .dataframe thead th {\n",
       "        text-align: right;\n",
       "    }\n",
       "</style>\n",
       "<table border=\"1\" class=\"dataframe\">\n",
       "  <thead>\n",
       "    <tr style=\"text-align: right;\">\n",
       "      <th></th>\n",
       "      <th>Unnamed: 0</th>\n",
       "      <th>title</th>\n",
       "      <th>company</th>\n",
       "      <th>announcement</th>\n",
       "      <th>description</th>\n",
       "    </tr>\n",
       "  </thead>\n",
       "  <tbody>\n",
       "    <tr>\n",
       "      <th>0</th>\n",
       "      <td>0</td>\n",
       "      <td>Senior Analyst, Data Science and Analytics</td>\n",
       "      <td>TransUnion</td>\n",
       "      <td>The Muse</td>\n",
       "      <td>TransUnion's Job Applicant Privacy Notice  Wha...</td>\n",
       "    </tr>\n",
       "    <tr>\n",
       "      <th>1</th>\n",
       "      <td>1</td>\n",
       "      <td>Senior Data Scientist</td>\n",
       "      <td>Grubhub Holdings, Inc.</td>\n",
       "      <td>ZipRecruiter</td>\n",
       "      <td>About The Opportunity  We're all about connect...</td>\n",
       "    </tr>\n",
       "    <tr>\n",
       "      <th>2</th>\n",
       "      <td>2</td>\n",
       "      <td>Lead Data Science Analyst</td>\n",
       "      <td>Discover Financial Services</td>\n",
       "      <td>LinkedIn</td>\n",
       "      <td>Discover. A brighter future.  With us, you’ll ...</td>\n",
       "    </tr>\n",
       "    <tr>\n",
       "      <th>3</th>\n",
       "      <td>3</td>\n",
       "      <td>Data Science Intern</td>\n",
       "      <td>AbelsonTaylor</td>\n",
       "      <td>Startup Jobs</td>\n",
       "      <td>Are you a 2023 college graduate or rising coll...</td>\n",
       "    </tr>\n",
       "    <tr>\n",
       "      <th>4</th>\n",
       "      <td>4</td>\n",
       "      <td>Data Scientist</td>\n",
       "      <td>NORC at the University of Chicago</td>\n",
       "      <td>SimplyHired</td>\n",
       "      <td>JOB DESCRIPTION:  At NORC, Data Scientists pla...</td>\n",
       "    </tr>\n",
       "  </tbody>\n",
       "</table>\n",
       "</div>"
      ],
      "text/plain": [
       "   Unnamed: 0                                       title  \\\n",
       "0           0  Senior Analyst, Data Science and Analytics   \n",
       "1           1                       Senior Data Scientist   \n",
       "2           2                   Lead Data Science Analyst   \n",
       "3           3                         Data Science Intern   \n",
       "4           4                              Data Scientist   \n",
       "\n",
       "                             company  announcement  \\\n",
       "0                         TransUnion      The Muse   \n",
       "1             Grubhub Holdings, Inc.  ZipRecruiter   \n",
       "2        Discover Financial Services      LinkedIn   \n",
       "3                      AbelsonTaylor  Startup Jobs   \n",
       "4  NORC at the University of Chicago   SimplyHired   \n",
       "\n",
       "                                         description  \n",
       "0  TransUnion's Job Applicant Privacy Notice  Wha...  \n",
       "1  About The Opportunity  We're all about connect...  \n",
       "2  Discover. A brighter future.  With us, you’ll ...  \n",
       "3  Are you a 2023 college graduate or rising coll...  \n",
       "4  JOB DESCRIPTION:  At NORC, Data Scientists pla...  "
      ]
     },
     "execution_count": 3,
     "metadata": {},
     "output_type": "execute_result"
    }
   ],
   "source": [
    "df.head()"
   ]
  },
  {
   "cell_type": "code",
   "execution_count": 4,
   "id": "ec79aed7",
   "metadata": {},
   "outputs": [
    {
     "data": {
      "text/plain": [
       "(790, 5)"
      ]
     },
     "execution_count": 4,
     "metadata": {},
     "output_type": "execute_result"
    }
   ],
   "source": [
    "df.shape"
   ]
  },
  {
   "cell_type": "code",
   "execution_count": 7,
   "id": "2210211f",
   "metadata": {},
   "outputs": [
    {
     "name": "stdout",
     "output_type": "stream",
     "text": [
      "<class 'pandas.core.frame.DataFrame'>\n",
      "RangeIndex: 790 entries, 0 to 789\n",
      "Data columns (total 5 columns):\n",
      " #   Column        Non-Null Count  Dtype \n",
      "---  ------        --------------  ----- \n",
      " 0   Unnamed: 0    790 non-null    int64 \n",
      " 1   title         790 non-null    object\n",
      " 2   company       790 non-null    object\n",
      " 3   announcement  790 non-null    object\n",
      " 4   description   790 non-null    object\n",
      "dtypes: int64(1), object(4)\n",
      "memory usage: 31.0+ KB\n"
     ]
    }
   ],
   "source": [
    "df.info()"
   ]
  },
  {
   "cell_type": "code",
   "execution_count": 8,
   "id": "7c64fe5c",
   "metadata": {},
   "outputs": [
    {
     "name": "stdout",
     "output_type": "stream",
     "text": [
      "There are 515 unique job titles for Data Scientist postings\n"
     ]
    }
   ],
   "source": [
    "list_of_titles = df['title'].unique()\n",
    "print('There are {} unique job titles for Data Scientist postings'.format(len(list_of_titles)))"
   ]
  },
  {
   "cell_type": "code",
   "execution_count": 9,
   "id": "9d4c5041",
   "metadata": {},
   "outputs": [
    {
     "name": "stdout",
     "output_type": "stream",
     "text": [
      "There are 203 unique job boards used for Data Scientist postings\n"
     ]
    }
   ],
   "source": [
    "list_of_jobboards = df['announcement'].unique()\n",
    "print('There are {} unique job boards used for Data Scientist postings'.format(len(list_of_jobboards)))"
   ]
  },
  {
   "cell_type": "code",
   "execution_count": null,
   "id": "94ac2451",
   "metadata": {},
   "outputs": [],
   "source": [
    "Remove Duplicates\n",
    "The same job could be posted on multiple different job boards. We will remove duplicates based on the job description\n",
    ". If two postings have the exact same job description, we will consider it the same job and leave only one."
   ]
  },
  {
   "cell_type": "code",
   "execution_count": 10,
   "id": "08b0898a",
   "metadata": {},
   "outputs": [
    {
     "data": {
      "text/html": [
       "<div>\n",
       "<style scoped>\n",
       "    .dataframe tbody tr th:only-of-type {\n",
       "        vertical-align: middle;\n",
       "    }\n",
       "\n",
       "    .dataframe tbody tr th {\n",
       "        vertical-align: top;\n",
       "    }\n",
       "\n",
       "    .dataframe thead th {\n",
       "        text-align: right;\n",
       "    }\n",
       "</style>\n",
       "<table border=\"1\" class=\"dataframe\">\n",
       "  <thead>\n",
       "    <tr style=\"text-align: right;\">\n",
       "      <th></th>\n",
       "      <th>Unnamed: 0</th>\n",
       "      <th>title</th>\n",
       "      <th>company</th>\n",
       "      <th>announcement</th>\n",
       "      <th>description</th>\n",
       "    </tr>\n",
       "  </thead>\n",
       "  <tbody>\n",
       "  </tbody>\n",
       "</table>\n",
       "</div>"
      ],
      "text/plain": [
       "Empty DataFrame\n",
       "Columns: [Unnamed: 0, title, company, announcement, description]\n",
       "Index: []"
      ]
     },
     "execution_count": 10,
     "metadata": {},
     "output_type": "execute_result"
    }
   ],
   "source": [
    "# check for duplicates\n",
    "duplicates = df['description'].duplicated()\n",
    "df[duplicates]"
   ]
  },
  {
   "cell_type": "code",
   "execution_count": 11,
   "id": "f0d70312",
   "metadata": {},
   "outputs": [
    {
     "data": {
      "text/plain": [
       "array(['Senior Analyst, Data Science and Analytics',\n",
       "       'Senior Data Scientist', 'Lead Data Science Analyst',\n",
       "       'Data Science Intern', 'Data Scientist',\n",
       "       'Senior Solutions Architect (Data Science)',\n",
       "       'Data Scientist - Research, Development & Construction',\n",
       "       'Data Science Manager - S&A Strategy',\n",
       "       'Senior/Principal Data Scientist', 'Data Science Analyst',\n",
       "       'Senior Data Scientist - Knowledge Management',\n",
       "       'Data Scientist, Consultant', 'Senior-Data Scientist',\n",
       "       'Staff Data Scientist', 'Data Science Internship',\n",
       "       'Undergrad Intern – Data Science Program (Summer 2023)',\n",
       "       'Data Science, Department of Information Technology - Adjunct Faculty',\n",
       "       'Summer 2023 Intelligent Sensors Data Science Intern',\n",
       "       'Associate Director Data Science',\n",
       "       'Data Science Senior Advisor (Solution Value Analytics) - Evernorth',\n",
       "       'Director, Data Science',\n",
       "       'Senior Manager, Institutional Data Analytics and Reporting',\n",
       "       'Data Scientist, TS/SCI with Polygraph Jobs',\n",
       "       'Data Scientist/Analyst Intern', 'Sr. Data Scientist',\n",
       "       'Data Scientist - Machine Learning',\n",
       "       'Data Scientist I, Product Analytics',\n",
       "       'Data Scientist/Bioinformatician - Mount Sinai Data Commons',\n",
       "       'Data Scientist (Greater NYC Area, NY or Remote)',\n",
       "       'Senior Data Scientist, Data Science Products | Bankrate',\n",
       "       'Senior Data Scientist, Product Analytics', 'VP, Data Science',\n",
       "       'Senior Data Scientist, Game Security',\n",
       "       'Senior Data Scientist (Remote, PhD Required)',\n",
       "       'Sr. Data Scientist, SMB Data and Analytics (Greater NYC Area, NY)',\n",
       "       'Senior Data Scientist, Spotify For Artists',\n",
       "       'Data Scientist / Orlando or Dallas', 'Data Scientist, Mid',\n",
       "       'Senior Data Scientist II',\n",
       "       'Senior Data Scientist, Bidder Product',\n",
       "       'Senior Data Scientist Consultant',\n",
       "       'Data Scientist II, AIGC Science and Analytics',\n",
       "       'Director, Data Science Product Management (Remote)',\n",
       "       'Data Scientist, Analytics', 'Junior Data Scientist',\n",
       "       'Merchandising Sr. Data Scientist',\n",
       "       'Bioinformatics and Data scientist',\n",
       "       'Staff Data Scientist, Advertiser Platform Analytics',\n",
       "       'Lead Data Scientist', 'Data Scientist, Finance',\n",
       "       'Principal Data Scientist', 'Data Scientist II',\n",
       "       'Data Scientist (CATALYST) June 2023 Start',\n",
       "       'Senior Lead Data Scientist - Recommender Systems',\n",
       "       'Senior Data Scientist (Chicago, IL)',\n",
       "       'Data Scientist - Data Analytics',\n",
       "       'Data Scientist - Forecasting (US)',\n",
       "       'Applied Data Scientist - Senior R&D Staff', 'Data Scientist Lead',\n",
       "       'Sr. Applied Data Scientist (Media Mix)', 'Data Scientist (FT)',\n",
       "       'Senior Data Scientist - Optimization',\n",
       "       'Data Scientist Internship - OR (US)',\n",
       "       'Data Scientist - Applied Machine Learning',\n",
       "       'Staff Data Scientist - Checkout', 'Data Scientist Early Career',\n",
       "       'Lead Data Scientist (Colorado Springs, CO)',\n",
       "       'Data Analyst/Data Scientist',\n",
       "       'Quantitative Analyst - Commodities (Data Science)',\n",
       "       'Clinical Informatics Data Scientist - Full Time',\n",
       "       'Data Scientist, Senior Associate: Carbon-Free Mobility Program',\n",
       "       'Senior Data Scientist – Machine Learning (Social)',\n",
       "       'Senior Product Data Scientist, Bitcoin Wallet',\n",
       "       'Sr Data Scientist',\n",
       "       'Data Scientist (P3 Career Level, 10 Month, Full-Time)',\n",
       "       'Senior Data Scientist / Data Engineer , Health Equity - Remote',\n",
       "       'Enterprise Data Scientist', 'Data Scientist II (Kansas City, MO)',\n",
       "       'Data Scientist - Cybersecurity', '(USA) Director, Data Science',\n",
       "       'Manager, Data Scientist, Anti-Money Laundering Modeling and...',\n",
       "       'Global Data Science Manager', 'Developer Engineer/ Data Science',\n",
       "       'Staff Data Scientist, Analytics',\n",
       "       'Senior Data Scientist/Engineer', 'Data Analytics Manager',\n",
       "       'Data Science',\n",
       "       'Senior Software Developer and Senior Data Scientist',\n",
       "       'Data Scientist 2 (Biomedical)',\n",
       "       'Group Marketing Data Science and Infrastructure Manager',\n",
       "       'Data Scientist (Remote)',\n",
       "       'Retail Bank Price and Policy Optimization Data Science Lead ...',\n",
       "       'Data Scientist – Product Strategy & Research',\n",
       "       'MACHINE LEARNING DATA SCIENTIST - PYTHON AND R, #11070 *',\n",
       "       'Sr Data Scientist Udemy Business Marketing',\n",
       "       'Data Scientist in Inflammatory Disease Modelling',\n",
       "       'Value Based Care & Payer Sr. Data Scientist',\n",
       "       'Senior Data Scientist (Remote)', 'eComm Principal Data Scientist',\n",
       "       'Data Science Fraud Manager',\n",
       "       'Data Scientist Technical Specialist Jobs',\n",
       "       '2023 SETUP Technology Full Time Program - Data Scientist - New York',\n",
       "       'Credit Quantitative Analyst/Data Scientist - Assistant Vice President',\n",
       "       'VP, Data Science Lead', 'PREDICTIVE DATA ANALYST',\n",
       "       'Lead Data Scientist, Vehicle Efficiency',\n",
       "       'Data Scientist Manager',\n",
       "       'Data Scientist (L5) - Applied Research, Consumer Insights',\n",
       "       'Jr. Data Scientist (Dallas, TX)', 'Data Scientist, Pricing',\n",
       "       'Compliance Data Scientist',\n",
       "       'Data Scientist – Games Growth Intelligence, GG Intelligence',\n",
       "       'Data Scientist (Phoenix, AZ)', 'Transportation Data Scientist',\n",
       "       'Senior Data Scientist - US Remote',\n",
       "       'Logistics Engineer and Data Science',\n",
       "       'Senior Data Scientist - Data Ventures',\n",
       "       'Data Scientist-Scientific Core', 'Data Scientist, Senior',\n",
       "       'Data Scientist II, Product Analytics',\n",
       "       'Staff Data Scientist, Safety Insights',\n",
       "       'Data Scientist, Data Quality Engineer', 'QC Data Scientist',\n",
       "       'Founding Data Scientist', 'Data Scientist Jobs',\n",
       "       '2023 SETUP Technology Full Time Program – Data Scientist - PGH',\n",
       "       'Principal Data Scientist (Remote) - Baltimore, MD area ONLY',\n",
       "       'Intern, Pharma Manufacturing Data Scientist',\n",
       "       'Data Scientist / Senior Data Scientist',\n",
       "       'Computer Vision Data Scientist',\n",
       "       'Senior Data Scientist - Data Platform Enablement',\n",
       "       'Senior Data Scientist - Notifications',\n",
       "       'Principal / Sr. Principal Data Scientist Jobs',\n",
       "       'Data Scientist (Enterprise Analytics)',\n",
       "       'Data Scientist, Vehicle Intelligence',\n",
       "       'Data Scientist I (Full Time)',\n",
       "       'Data Scientist Digital Effectiveness Operations & Technology Analytics',\n",
       "       'People Data Scientist',\n",
       "       'Senior Data Scientist, Ads Quality Analytics (Remote)',\n",
       "       'Audit Data Scientist', 'Data Scientist Associate I-Neurology',\n",
       "       'Associate Director, Data Science',\n",
       "       'Data Science Product Manager (REMOTE)',\n",
       "       'Data Scientist - TS/SCI w/ Poly',\n",
       "       'Cryptanalytic Computer Scientist (Data Scientist 2)- 6347 Jobs',\n",
       "       'Mission Data Scientist (Washington DC)',\n",
       "       'Senior Data Scientist, Epidemiology',\n",
       "       '(USA) Staff Data Scientist', 'Senior Lead Data Scientist Jobs',\n",
       "       'Data Scientist / Analyst', 'Distinguished Data Scientist',\n",
       "       'Senior Research Data Scientist', 'Data Scientist III',\n",
       "       'Senior Data Scientist, Specialty Compliance and Ethics, Digital Values',\n",
       "       'Lead Data Scientist, Personalization (Remote)',\n",
       "       'Data Science Opportunities', 'Data Scientist - Lincolnshire, IL',\n",
       "       'Business Data Scientist', 'Mid-Geospatial Data Scientist',\n",
       "       'Data Scientist (Chicago or Remote)',\n",
       "       'Senior Data Scientist, Fulfillment and Logistics',\n",
       "       'Data Scientist - Opportunity for Working Remotely',\n",
       "       'Data Science Intern - Summer 2023',\n",
       "       'Senior Data Scientist - Search & Recommendation',\n",
       "       'Remote Data Scientist', 'Senior Data Scientist (Hybrid)',\n",
       "       'Director Data Science - Smart Grid', 'Associate Data Scientist',\n",
       "       'Data Scientist – Business Intelligence Specialist',\n",
       "       'Clinical Data Scientist', 'Data Science Project Manager Jobs',\n",
       "       'Data Scientist / Matchmaking Scientist',\n",
       "       'Associate Director, Data Scientist',\n",
       "       'Quantum Research Data Scientist',\n",
       "       'Data Scientist with Security Clearance',\n",
       "       'Director Analytics & Data Science',\n",
       "       'Sr. Inventory Management Data Scientist',\n",
       "       'Data Science Internship - Summer 2023', 'DATA SCIENTIST',\n",
       "       'Senior Data Scientist, Genetics',\n",
       "       'Data Scientist(Summer 2023 Internship)',\n",
       "       '2023 Focused Analytics Solutions Team (FAST) Full-Time Associate...',\n",
       "       'Environmental Data Scientist', 'Head of Data Science',\n",
       "       'Sr. Data Scientist – Retail/Marketing',\n",
       "       'Data Scientist - Computer Vision and Machine Learning - Strategic...',\n",
       "       'Graduate (Year-Round) Intern: Geospatial Data Science Modeling and...',\n",
       "       'Senior Data Scientist - Statistics',\n",
       "       'Senior Professional, Data Scientist', 'Data Scientist-W2(Hybrid)',\n",
       "       'Sales Operations Data Scientist, Advertising Platforms',\n",
       "       'Data Scientist Python SQL',\n",
       "       'Biomedical Literature / Patent Data Scientist',\n",
       "       'Lead Data Scientist - 100% Remote - FTE - $200k Base',\n",
       "       'Data Analyst', 'Senior Business Data Analyst',\n",
       "       'Junior Data Analyst', 'Data Analyst (Monitoring)',\n",
       "       'Senior Data Analyst, Destination Management', 'DATA ANALYST',\n",
       "       'Data Governance Analyst', 'Scientific Data Analyst',\n",
       "       'Senior Data Analyst, Marketing & Enrollment',\n",
       "       'Hybrid Data Analyst', 'Senior Finance Data Analyst',\n",
       "       'Associate Data Analyst', 'Expert Data Analyst - Fully Remote',\n",
       "       'Sr. Data Analyst (Jacksonville, FL)', 'ERP Data Analyst III',\n",
       "       'Sales Data Analyst', 'Junior Data Analyst Jobs',\n",
       "       'Marketing Data Analyst', 'Data Analyst- Fortify',\n",
       "       'Senior Data Analyst, Clinical Analytics & Reporting - REMOTE',\n",
       "       'Cannabis ERP Data Analyst', 'Senior Data Analyst',\n",
       "       'Business Data Analyst', 'Data Analyst Internship',\n",
       "       'Senior Data Analyst (Remote Opportunity)',\n",
       "       'Data Analyst - 4637313', 'Data Analyst - Pilot',\n",
       "       'Functional Data Analyst', 'Supply Chain Data Analyst II',\n",
       "       'Financial Data Analyst', 'Data Analyst/HR',\n",
       "       'Lead Data Analyst - San Antonio, TX or Remote',\n",
       "       'GIS Development & Data Analyst (All Levels)', 'Data Analyst OTI',\n",
       "       'Senior Data Analyst (2-year contract)',\n",
       "       'Provider Data Analyst (Indianapolis, IN or Remote)',\n",
       "       'Business Intelligence / Data Analyst',\n",
       "       'Data Analyst, Senior Data Analyst',\n",
       "       'Data Quality Analyst - Experian Health - Strong SQL experience, QA...',\n",
       "       'Operations Administrator/Data Analyst',\n",
       "       'File Processing Manager - IT Data Analyst (On-Site or Remote)',\n",
       "       '(USA) Principal Data Analyst - Investigative Risk and Operational...',\n",
       "       'Analyst & Visualization Engineer', 'Data Analyst - Service Core',\n",
       "       'Senior Clinical Research Data Analyst - Engineer',\n",
       "       'Data Management Data Analyst',\n",
       "       'Senior Data Analyst, Inventory Management',\n",
       "       'Entry Level Data Analyst', 'Compliance Quantitative Data Analyst',\n",
       "       'Senior Data Analyst (Transportation Optimization) -3',\n",
       "       'Data Analyst - Contract to Hire', 'Data Analyst I',\n",
       "       'Data Analyst- Senior', 'Sr. Business Data Analyst',\n",
       "       'Snr. Data Analyst (Remote)', 'IT Data Analyst Intern - PMO',\n",
       "       'Sr Supply Chain Master Data Analyst',\n",
       "       'Data Senior Analyst - Technology',\n",
       "       'Excel Data Analyst / Billing Reconciliation',\n",
       "       'Associate, Data Analyst', 'Data Analyst - AIS',\n",
       "       'Lead Data Analyst', 'Flight Data Analyst',\n",
       "       'Data Analyst - Student Health - Full Time 8 Hour Days (Non-Exempt...',\n",
       "       'Sr. Data Analyst', 'Quality Data Analyst',\n",
       "       'Sr. Data Analyst, Marketing Operations',\n",
       "       'Internship:  Production Planning Data Analyst',\n",
       "       'Senior Data Analyst, Product (Remote)',\n",
       "       'Data Analyst (Department of Neurosurgery)',\n",
       "       'Business and Data Analyst', 'IT CMDB Data Analyst',\n",
       "       'Data Analyst – Full-Time – Lufkin',\n",
       "       'Senior Marketing Data Analyst', 'Lead Data Analyst [Remote]',\n",
       "       'Data Analyst, Carrier Consulting (can be remote)',\n",
       "       'Sr. Technical Data Analyst - HYBRID', 'Healthcare Data Analyst',\n",
       "       'Senior Data Analyst, Blockchain', 'Data Analyst II - Now Hiring',\n",
       "       'Laboratory Services Data Analyst', 'Reporting Analyst',\n",
       "       'Data Analyst (Remote)', 'Senior Data Analyst - Remote - USA',\n",
       "       'Data Analyst / Big Data QA',\n",
       "       'Analyst, Data Management & Quantitative Analysis',\n",
       "       'Investment Data Analyst', 'Mortgage Data Analyst II (HYBRID)',\n",
       "       'Senior BI Data Analyst', 'Procurement Data Analyst',\n",
       "       'Analytics Internship (Summer 2023)',\n",
       "       'Research Data Analyst Associate',\n",
       "       'Provider Experience Analyst | Remote',\n",
       "       'Analyst, Business Intelligence - Part-Time',\n",
       "       'Senior Data Analyst - AAI (Oklahoma City, OK)',\n",
       "       'Student Data Analyst', 'Senior Healthcare Data Analyst',\n",
       "       'Business Sales Data Analyst',\n",
       "       'Looking for a rockstar Amplitude data analyst - Contract to Hire',\n",
       "       'HR Data Analyst (Remote)', 'Data Analyst Mid-Level - Remote',\n",
       "       'Business Analyst II', 'Data AnalystBI Developer III',\n",
       "       'Data Analyst | Excel Expert',\n",
       "       'Senior Data Analyst - Transportation Optimization',\n",
       "       'Financial Data Analyst - Healthcare',\n",
       "       'Senior Data Analyst, Performance Analytics',\n",
       "       'Data Analyst Required To Create A Dashboard For Our App In Amplitude',\n",
       "       'Remote Data Analyst',\n",
       "       'Data Analyst for Ecommerce and Marketing Agency',\n",
       "       'Local Sr Data Analyst', 'EDI Data Analyst',\n",
       "       'Jr. Financial/Data Analyst',\n",
       "       'Data Analyst needed to analyze various categories',\n",
       "       'Data Analyst Intern', 'Senior Data Analyst (P553)',\n",
       "       'Claims Data Analyst I', 'Data Analyst-Parts',\n",
       "       'Associate Research/Data Analyst', 'SQL Developer / Data Analyst',\n",
       "       'Data Analysis - Contract to Hire',\n",
       "       'Data Analyst - Ataccama ONE REMOTE 40046',\n",
       "       'Assurance Data Analyst', 'Health Services Data Analyst',\n",
       "       'Data Analyst ( US REMOTE)', 'Feminist Data Analyst for Twitter',\n",
       "       'Ad Ops Data Analyst', 'Clinical Data Analyst',\n",
       "       'Sr. Data Analyst & Visualization Developer',\n",
       "       'Technical Data Analyst Waukesha Engines',\n",
       "       'Clinical Informaticist/Data Analyst',\n",
       "       'Data Analyst, Customer Success',\n",
       "       'Data Analyst with home services industry (HVAC, plumbing, electrical)',\n",
       "       'Senior Technical Data Analyst',\n",
       "       'Data Analyst (Outreach/Digital PR)', 'HRIS Data Analyst',\n",
       "       'REMOTE / HYBRID - Healthcare Data Analyst (HEDIS)',\n",
       "       'Data Analyst - Growth Marketing', 'Business Data Analyst I',\n",
       "       'Sr Data Analyst - FinTech, 100% remote, data warehouse + cloud focus',\n",
       "       'Health Data Analyst',\n",
       "       'Senior Associate, Digital Data Analyst/Architect',\n",
       "       'Jr. Data Analyst', 'Data Analyst, Data Analytics',\n",
       "       'Senior Data Governance Specialist (Remote)',\n",
       "       'Lead Data Analyst- Real Estate',\n",
       "       'Excel data analysis - Contract to Hire', 'Data Analysis Manager',\n",
       "       'Data analyst :Africa Water Footprint Dataset',\n",
       "       'Snr. Data Analyst', 'Program Management Data Analyst',\n",
       "       'Data Analyst Manager (Charlotte, NC (Hybrid) or Fully Remote)',\n",
       "       'Public Safety Strategic Planning and Data Analysis Coordinator',\n",
       "       'Senior Data Analysis Engineer', 'Data Analytics Director',\n",
       "       'Lead Data Analyst (SAS & SQL)', 'Data Analytics Engineer',\n",
       "       'Associate Healthcare Research and Data Analyst',\n",
       "       'Associate Director, Data Analytics and Modeling - Insights Center...',\n",
       "       'Data Analysis Programmer Specialist I', 'Data Analyst Level 3',\n",
       "       'Visiting Professor (Data Analysis, EMBA Program))',\n",
       "       'Data Analyst Medica-Minneapolis, Minnesota-Remote(1 day onsite in...',\n",
       "       'Senior Data Analytics Consultant', 'Data Analyst II',\n",
       "       'Senior Data Analyst, Technology| Data',\n",
       "       'Director of Data Analytics & Reporting',\n",
       "       'CAMPUS RECRUITING - BUSINESS/ DATA ANALYTICS INTERN: ONLINE...',\n",
       "       'Data Analytics in Automation Internship',\n",
       "       'Data Analytics Auditor Senior I',\n",
       "       'RISA20220808-OP028 Cyber Security Operations Specialist II ...',\n",
       "       'Data Analysis Supervisor', 'Data Analyst/Engineer (Remote)',\n",
       "       'Manager, Data Analysis',\n",
       "       'Analytics & Insights Senior Manager - Media Analytics',\n",
       "       'Senior Environmental Data Analyst', 'Data Analytics Intern *',\n",
       "       'Data Analyst III - Full-time / Part-time',\n",
       "       'AVP - Senior Data Analyst', 'Data Analyst - Threat Lab',\n",
       "       'RDC Data Analyst- Research Information Services',\n",
       "       'Sr Customer Experience Data Analyst',\n",
       "       'Marketing Data Analyst - Office of Communications and Marketing',\n",
       "       'COOP - Data Analyst', 'Financial Process and Data Analyst',\n",
       "       'Principal Data Analyst', 'Data Analyst/Business Analyst',\n",
       "       'NA Claims Digital Analytics & Performance Management SME',\n",
       "       'Alpha Operations Data Analyst, Officer',\n",
       "       'Principal Data Analyst, AV Performance Analysis',\n",
       "       'Senior/Principal Scientist- Visualization and Interactive Data...',\n",
       "       'Data Analyst - Health, Experienced',\n",
       "       'Team Lead, Data Analytics - EABI (Flexible/Remote)',\n",
       "       'Data Engineer - Data Analytics',\n",
       "       'Data Analyst-Risk and Regulatory Data',\n",
       "       'Real World Data Expansion Analyst',\n",
       "       'Data Governance Analyst (Open to hiring at Senior level)',\n",
       "       'Data Analyst Technical Senior',\n",
       "       'Product Owner – Data Analytics – Client and Business Insights Team',\n",
       "       'Database Manager/Data Analyst',\n",
       "       'Provider Data Analyst (contract)', 'Data Specialist! (Remote)',\n",
       "       'Consultant/Sr. Consultant - Data Analyst',\n",
       "       'Data Analyst - Community Reinvestment Act',\n",
       "       'Data Visualization and Infographics Analyst',\n",
       "       'Data Analyst- (Data & Spatial Analysis)-Hybrid',\n",
       "       'Big Data Engineer', 'Nuclear Data Analyst',\n",
       "       'Data Analytics Senior (Hybrid - 3 Days in Office)',\n",
       "       'Senior Analytics Engineer, Data Operations',\n",
       "       'Lead Software Engineer, Data Analytics (Remote)',\n",
       "       'Data Engineer - Clearance Required Jobs',\n",
       "       'Business Data Analyst/Business Systems Analyst',\n",
       "       'Business and Data Analysis',\n",
       "       'Senior Manager II, Data Analytics, Financial Services Compliance...',\n",
       "       'Advanced Mobility and Data Analytics Intern',\n",
       "       'Systems Data Analyst / Full-time (Remote)',\n",
       "       'Principal Data Analyst (Credit Bureau Reporting)',\n",
       "       'Policy intern', 'Entry level Data Analyst / Full time (Remote)',\n",
       "       'Data Measurement & Reporting Lead Analyst',\n",
       "       'Data Engineer- Data & Analytics', 'Manager, Data Analytics',\n",
       "       'Data Analyst / Database Developer',\n",
       "       'Business and Data Analysis Librarian',\n",
       "       'Data Analyst - Tiktok Ads and Monetization Products',\n",
       "       'Program/Data Analyst',\n",
       "       'Development Data Analyst, the Fund for Johns Hopkins Medicine',\n",
       "       'Data Analysis Intern (Remote Internship - Analyst)',\n",
       "       'Data Reporting Analyst',\n",
       "       'Data Analyst, Bureau of Epidemiology Services',\n",
       "       'Director, IT Data Analysis',\n",
       "       'HYBRID: Global Financial Crimes: Risk Assessment Data Analyst',\n",
       "       'Data Analyst - Now Hiring',\n",
       "       'Data Analyst - Refugee Resettlement - Remote, US',\n",
       "       'People Analytics Analyst', 'Strategic Data Analyst SME',\n",
       "       'SR Principal Solutions Engineer, Global MSAT Data Analytics',\n",
       "       'Business Analyst, Technical',\n",
       "       'Data Analyst Sr Revenue Management',\n",
       "       'Senior Data Analyst - Now Hiring',\n",
       "       'Data Analyst Transformation Improvement',\n",
       "       'Analytics and Data Integrity Analyst', 'Google analytics guru',\n",
       "       'Maintenance Data Analyst',\n",
       "       'Data Analyst III (Florence or Percival primarily W@H) R1026157',\n",
       "       'data analyst sas - minneapolis, des moines, st. louis, charlotte',\n",
       "       'Opportunity: Clinical data analyst!',\n",
       "       'Data Analyst - Quality Analytics (REMOTE)',\n",
       "       'Analyst, Market Intelligence & Data Analytics',\n",
       "       'Data Analyst III - Healthcare', 'Data Analyst - HYBRID',\n",
       "       'Business Data Analyst - Hybrid Remote',\n",
       "       'Human Resources Data Analyst', 'Data Analyst (hybrid)',\n",
       "       'Reporting Analyst Entry Level (Training)',\n",
       "       'Data Scientist (Data Analyst/Business Intelligence Developer)',\n",
       "       'Data Analyst - UHC Finance - Remote',\n",
       "       '[Urgent] Data Science Bootcamp Instructor',\n",
       "       'Marketing & Automotive Data Analytics',\n",
       "       'Senior Associate, Data Analytics & Modeling',\n",
       "       'Data Analyst, Quality Reporting & Performance Analysis',\n",
       "       'Data Analyst - Statistician - Public Interest - Chicago - 22-E-41',\n",
       "       'Junior Master Data Analyst (Contractor)',\n",
       "       'HR System & Data Analyst',\n",
       "       'Budget Data Analyst (Research Specialist I) 2023-34',\n",
       "       'Data Analyst (2022-3772)', 'Operational Data Analyst',\n",
       "       'Senior Business Data Analyst, SOLAR',\n",
       "       'Intern - Market Research/Data Analyst',\n",
       "       'Health Data Analysis Summer 2023 Intern', 'Business/Data Analyst',\n",
       "       'Lead Control Management Officer - Data Analytics with SQL|Tableau',\n",
       "       'Data Analytics Internship - Supply Chain',\n",
       "       'Manager Global Reporting and Data Analytics (Power BI)',\n",
       "       'Data Analysis', 'Data Specialist - Temp',\n",
       "       'Intern - DRAM Quality Data Analytics',\n",
       "       'Data Solutions & Analytics Senior Analyst',\n",
       "       'Paid Bootcamp- STEM Entry Level Data Analyst and Visualization',\n",
       "       'Data Analyst (Junior)', 'FEMA Data Analyst (Field)',\n",
       "       'Senior Data Analytics Auditor', 'TSA Data Analyst - Check Point',\n",
       "       'Senior Data Analyst - Consumer/Small Business',\n",
       "       'Data Analyst/ Project Lead', 'Consulting Data Analyst',\n",
       "       'Data Integration Analyst', 'Data Analyst - Houston, TX',\n",
       "       'Summer Intern -Compliance Data Analyst',\n",
       "       'Data Analyst - Division of Quality Improvement',\n",
       "       'Data Analyst Business Analytics- Hybrid', 'Data Analyst - Mid',\n",
       "       'Systems/Data Analyst', 'Analyst II - Sr Data Analyst',\n",
       "       'Director, Business Analysis and Insights (Corporate Real Estate...',\n",
       "       'Data Analytics Manager, Geo Sales AMER',\n",
       "       'Periop Data Analyst - Surgical Services, Atrium Health CMC',\n",
       "       'Data Visualization Analyst',\n",
       "       'Senior Solution Architect, Data & Analytics',\n",
       "       'Senior Manager, Enterprise BI & Data Analytics',\n",
       "       'Data Specialist', 'Senior Data Specialist',\n",
       "       'Legal Data Specialist (Global Law Firm)',\n",
       "       'Global Master Data Specialist I', 'Data Specialist, Programs',\n",
       "       'Data Analyst - Part-Time, Alpha - an EDU Startup - $30,000/year USD',\n",
       "       'Health Data Specialist II', 'Scan Data Specialist',\n",
       "       'WSS Business and Data Analyst Lead',\n",
       "       'Aviation Data Specialist (Virtual)',\n",
       "       'Senior Data Specialist #0630110',\n",
       "       'US Duncan: Data Management Specialist (Associate - Senior) - 171829',\n",
       "       'Senior Marketing Data Specialist',\n",
       "       'Research Data Specialist - Leukemia',\n",
       "       'Affirmative Action Data Specialist',\n",
       "       'Medical Data Specialist Internship',\n",
       "       'Remote - Data Specialist ( SAP MDM) / Master data Specialist',\n",
       "       'Research and Data Specialist',\n",
       "       'Quality Assurance Data Specialist',\n",
       "       'Cost Controller/Data Analyst'], dtype=object)"
      ]
     },
     "execution_count": 11,
     "metadata": {},
     "output_type": "execute_result"
    }
   ],
   "source": [
    "df['title'].unique()\n"
   ]
  },
  {
   "cell_type": "code",
   "execution_count": 13,
   "id": "872af23c",
   "metadata": {},
   "outputs": [],
   "source": [
    "df['title'] = df['title'].str.lower()\n",
    "\n",
    "mask1 = df['title'].str.contains('data science')\n",
    "mask2 = df['title'].str.contains('data scientist')\n",
    "\n",
    "mask = mask1 | mask2\n",
    "df = df[mask]"
   ]
  },
  {
   "cell_type": "code",
   "execution_count": 14,
   "id": "688174f4",
   "metadata": {},
   "outputs": [
    {
     "data": {
      "text/plain": [
       "array(['senior analyst, data science and analytics',\n",
       "       'senior data scientist', 'lead data science analyst',\n",
       "       'data science intern', 'data scientist',\n",
       "       'senior solutions architect (data science)',\n",
       "       'data scientist - research, development & construction',\n",
       "       'data science manager - s&a strategy',\n",
       "       'senior/principal data scientist', 'data science analyst',\n",
       "       'senior data scientist - knowledge management',\n",
       "       'data scientist, consultant', 'senior-data scientist',\n",
       "       'staff data scientist', 'data science internship',\n",
       "       'undergrad intern – data science program (summer 2023)',\n",
       "       'data science, department of information technology - adjunct faculty',\n",
       "       'summer 2023 intelligent sensors data science intern',\n",
       "       'associate director data science',\n",
       "       'data science senior advisor (solution value analytics) - evernorth',\n",
       "       'director, data science',\n",
       "       'data scientist, ts/sci with polygraph jobs',\n",
       "       'data scientist/analyst intern', 'sr. data scientist',\n",
       "       'data scientist - machine learning',\n",
       "       'data scientist i, product analytics',\n",
       "       'data scientist/bioinformatician - mount sinai data commons',\n",
       "       'data scientist (greater nyc area, ny or remote)',\n",
       "       'senior data scientist, data science products | bankrate',\n",
       "       'senior data scientist, product analytics', 'vp, data science',\n",
       "       'senior data scientist, game security',\n",
       "       'senior data scientist (remote, phd required)',\n",
       "       'sr. data scientist, smb data and analytics (greater nyc area, ny)',\n",
       "       'senior data scientist, spotify for artists',\n",
       "       'data scientist / orlando or dallas', 'data scientist, mid',\n",
       "       'senior data scientist ii',\n",
       "       'senior data scientist, bidder product',\n",
       "       'senior data scientist consultant',\n",
       "       'data scientist ii, aigc science and analytics',\n",
       "       'director, data science product management (remote)',\n",
       "       'data scientist, analytics', 'junior data scientist',\n",
       "       'merchandising sr. data scientist',\n",
       "       'bioinformatics and data scientist',\n",
       "       'staff data scientist, advertiser platform analytics',\n",
       "       'lead data scientist', 'data scientist, finance',\n",
       "       'principal data scientist', 'data scientist ii',\n",
       "       'data scientist (catalyst) june 2023 start',\n",
       "       'senior lead data scientist - recommender systems',\n",
       "       'senior data scientist (chicago, il)',\n",
       "       'data scientist - data analytics',\n",
       "       'data scientist - forecasting (us)',\n",
       "       'applied data scientist - senior r&d staff', 'data scientist lead',\n",
       "       'sr. applied data scientist (media mix)', 'data scientist (ft)',\n",
       "       'senior data scientist - optimization',\n",
       "       'data scientist internship - or (us)',\n",
       "       'data scientist - applied machine learning',\n",
       "       'staff data scientist - checkout', 'data scientist early career',\n",
       "       'lead data scientist (colorado springs, co)',\n",
       "       'data analyst/data scientist',\n",
       "       'quantitative analyst - commodities (data science)',\n",
       "       'clinical informatics data scientist - full time',\n",
       "       'data scientist, senior associate: carbon-free mobility program',\n",
       "       'senior data scientist – machine learning (social)',\n",
       "       'senior product data scientist, bitcoin wallet',\n",
       "       'sr data scientist',\n",
       "       'data scientist (p3 career level, 10 month, full-time)',\n",
       "       'senior data scientist / data engineer , health equity - remote',\n",
       "       'enterprise data scientist', 'data scientist ii (kansas city, mo)',\n",
       "       'data scientist - cybersecurity', '(usa) director, data science',\n",
       "       'manager, data scientist, anti-money laundering modeling and...',\n",
       "       'global data science manager', 'developer engineer/ data science',\n",
       "       'staff data scientist, analytics',\n",
       "       'senior data scientist/engineer', 'data science',\n",
       "       'senior software developer and senior data scientist',\n",
       "       'data scientist 2 (biomedical)',\n",
       "       'group marketing data science and infrastructure manager',\n",
       "       'data scientist (remote)',\n",
       "       'retail bank price and policy optimization data science lead ...',\n",
       "       'data scientist – product strategy & research',\n",
       "       'machine learning data scientist - python and r, #11070 *',\n",
       "       'sr data scientist udemy business marketing',\n",
       "       'data scientist in inflammatory disease modelling',\n",
       "       'value based care & payer sr. data scientist',\n",
       "       'senior data scientist (remote)', 'ecomm principal data scientist',\n",
       "       'data science fraud manager',\n",
       "       'data scientist technical specialist jobs',\n",
       "       '2023 setup technology full time program - data scientist - new york',\n",
       "       'credit quantitative analyst/data scientist - assistant vice president',\n",
       "       'vp, data science lead', 'lead data scientist, vehicle efficiency',\n",
       "       'data scientist manager',\n",
       "       'data scientist (l5) - applied research, consumer insights',\n",
       "       'jr. data scientist (dallas, tx)', 'data scientist, pricing',\n",
       "       'compliance data scientist',\n",
       "       'data scientist – games growth intelligence, gg intelligence',\n",
       "       'data scientist (phoenix, az)', 'transportation data scientist',\n",
       "       'senior data scientist - us remote',\n",
       "       'logistics engineer and data science',\n",
       "       'senior data scientist - data ventures',\n",
       "       'data scientist-scientific core', 'data scientist, senior',\n",
       "       'data scientist ii, product analytics',\n",
       "       'staff data scientist, safety insights',\n",
       "       'data scientist, data quality engineer', 'qc data scientist',\n",
       "       'founding data scientist', 'data scientist jobs',\n",
       "       '2023 setup technology full time program – data scientist - pgh',\n",
       "       'principal data scientist (remote) - baltimore, md area only',\n",
       "       'intern, pharma manufacturing data scientist',\n",
       "       'data scientist / senior data scientist',\n",
       "       'computer vision data scientist',\n",
       "       'senior data scientist - data platform enablement',\n",
       "       'senior data scientist - notifications',\n",
       "       'principal / sr. principal data scientist jobs',\n",
       "       'data scientist (enterprise analytics)',\n",
       "       'data scientist, vehicle intelligence',\n",
       "       'data scientist i (full time)',\n",
       "       'data scientist digital effectiveness operations & technology analytics',\n",
       "       'people data scientist',\n",
       "       'senior data scientist, ads quality analytics (remote)',\n",
       "       'audit data scientist', 'data scientist associate i-neurology',\n",
       "       'associate director, data science',\n",
       "       'data science product manager (remote)',\n",
       "       'data scientist - ts/sci w/ poly',\n",
       "       'cryptanalytic computer scientist (data scientist 2)- 6347 jobs',\n",
       "       'mission data scientist (washington dc)',\n",
       "       'senior data scientist, epidemiology',\n",
       "       '(usa) staff data scientist', 'senior lead data scientist jobs',\n",
       "       'data scientist / analyst', 'distinguished data scientist',\n",
       "       'senior research data scientist', 'data scientist iii',\n",
       "       'senior data scientist, specialty compliance and ethics, digital values',\n",
       "       'lead data scientist, personalization (remote)',\n",
       "       'data science opportunities', 'data scientist - lincolnshire, il',\n",
       "       'business data scientist', 'mid-geospatial data scientist',\n",
       "       'data scientist (chicago or remote)',\n",
       "       'senior data scientist, fulfillment and logistics',\n",
       "       'data scientist - opportunity for working remotely',\n",
       "       'data science intern - summer 2023',\n",
       "       'senior data scientist - search & recommendation',\n",
       "       'remote data scientist', 'senior data scientist (hybrid)',\n",
       "       'director data science - smart grid', 'associate data scientist',\n",
       "       'data scientist – business intelligence specialist',\n",
       "       'clinical data scientist', 'data science project manager jobs',\n",
       "       'data scientist / matchmaking scientist',\n",
       "       'associate director, data scientist',\n",
       "       'quantum research data scientist',\n",
       "       'data scientist with security clearance',\n",
       "       'director analytics & data science',\n",
       "       'sr. inventory management data scientist',\n",
       "       'data science internship - summer 2023',\n",
       "       'senior data scientist, genetics',\n",
       "       'data scientist(summer 2023 internship)',\n",
       "       'environmental data scientist', 'head of data science',\n",
       "       'sr. data scientist – retail/marketing',\n",
       "       'data scientist - computer vision and machine learning - strategic...',\n",
       "       'graduate (year-round) intern: geospatial data science modeling and...',\n",
       "       'senior data scientist - statistics',\n",
       "       'senior professional, data scientist', 'data scientist-w2(hybrid)',\n",
       "       'sales operations data scientist, advertising platforms',\n",
       "       'data scientist python sql',\n",
       "       'biomedical literature / patent data scientist',\n",
       "       'lead data scientist - 100% remote - fte - $200k base',\n",
       "       'data scientist (data analyst/business intelligence developer)',\n",
       "       '[urgent] data science bootcamp instructor'], dtype=object)"
      ]
     },
     "execution_count": 14,
     "metadata": {},
     "output_type": "execute_result"
    }
   ],
   "source": [
    "df['title'].unique()\n"
   ]
  },
  {
   "cell_type": "code",
   "execution_count": 15,
   "id": "5ea117e8",
   "metadata": {},
   "outputs": [
    {
     "name": "stdout",
     "output_type": "stream",
     "text": [
      "There are 191 unique job titles for Data Scientist postings\n"
     ]
    }
   ],
   "source": [
    "print('There are {} unique job titles for Data Scientist postings'.format(len(df['title'].unique())))"
   ]
  },
  {
   "cell_type": "code",
   "execution_count": 16,
   "id": "43630fe1",
   "metadata": {},
   "outputs": [],
   "source": [
    "# A function that replaces the job title if it contains a certain sub string.\n",
    "def replace_title(title):\n",
    "    # Lowercase the titles first to keep consistency    \n",
    "    if 'lead' in title or 'principal' in title or 'founding' in title:\n",
    "        return 'Lead Data Scientist'\n",
    "    elif 'senior' in title or 'sr' in title:\n",
    "        return 'Senior Data Scientist'\n",
    "    elif 'manager' in title:\n",
    "        return 'Data Science Manager'\n",
    "    elif 'intern' in title:\n",
    "        return 'Intern Data Scientist'\n",
    "    elif 'vp' in title or 'vice president' in title:\n",
    "        return 'VP of Data Science'\n",
    "    elif 'director' in title:\n",
    "        return 'Director of Data Science'\n",
    "    elif 'staff' in title:\n",
    "        return 'Staff Data Scientist'\n",
    "    elif 'jr' in title or 'junior' in title:\n",
    "        return 'Junior Data Scientist'\n",
    "    elif 'data scientist' in title or 'data science' in title: \n",
    "        return 'Data Scientist'\n",
    "    else:\n",
    "        return title\n",
    "\n",
    "# Apply function to title column\n",
    "df['title'] = df['title'].apply(replace_title)"
   ]
  },
  {
   "cell_type": "code",
   "execution_count": 17,
   "id": "f8798c77",
   "metadata": {},
   "outputs": [
    {
     "data": {
      "text/plain": [
       "array(['Senior Data Scientist', 'Lead Data Scientist',\n",
       "       'Intern Data Scientist', 'Data Scientist', 'Data Science Manager',\n",
       "       'Staff Data Scientist', 'Director of Data Science',\n",
       "       'VP of Data Science', 'Junior Data Scientist'], dtype=object)"
      ]
     },
     "execution_count": 17,
     "metadata": {},
     "output_type": "execute_result"
    }
   ],
   "source": [
    "df['title'].unique()"
   ]
  },
  {
   "cell_type": "code",
   "execution_count": 18,
   "id": "09c3d772",
   "metadata": {},
   "outputs": [
    {
     "name": "stdout",
     "output_type": "stream",
     "text": [
      "There are 9 unique job titles for Data Scientist postings\n"
     ]
    }
   ],
   "source": [
    "print('There are {} unique job titles for Data Scientist postings'.format(len(df['title'].unique())))"
   ]
  },
  {
   "cell_type": "code",
   "execution_count": null,
   "id": "b181da32",
   "metadata": {},
   "outputs": [],
   "source": [
    "Countplot of Title and Announcement\n",
    "We will create a countplot to visualize the distribution of the different job titles in our dataset. \n",
    "This plot will provide us with a clear picture of the frequency of each job title."
   ]
  },
  {
   "cell_type": "code",
   "execution_count": 19,
   "id": "7bf982e2",
   "metadata": {},
   "outputs": [
    {
     "data": {
      "image/png": "[encoded data removed]",
      "text/plain": [
       "<Figure size 432x288 with 1 Axes>"
      ]
     },
     "metadata": {
      "needs_background": "light"
     },
     "output_type": "display_data"
    }
   ],
   "source": [
    "# Plot histogram of the different job titles in the dataset\n",
    "sns.countplot(y= 'title', data = df, order = df['title'].value_counts().index)\n",
    "\n",
    "# Add labels and titles\n",
    "plt.xlabel('Count')\n",
    "plt.ylabel('Job Title')\n",
    "plt.title('Count Plot of Different Data Science Job Titles')\n",
    "\n",
    "plt.show()\n"
   ]
  },
  {
   "cell_type": "code",
   "execution_count": 20,
   "id": "2538e1e2",
   "metadata": {},
   "outputs": [
    {
     "data": {
      "text/plain": [
       "0      TransUnion's Job Applicant Privacy Notice  Wha...\n",
       "1      About The Opportunity  We're all about connect...\n",
       "2      Discover. A brighter future.  With us, you’ll ...\n",
       "3      Are you a 2023 college graduate or rising coll...\n",
       "4      JOB DESCRIPTION:  At NORC, Data Scientists pla...\n",
       "                             ...                        \n",
       "326    Dice is the leading career destination for tec...\n",
       "584    Secure our Nation, Ignite your Future  Join th...\n",
       "694    Company Overview:  Join the world’s only threa...\n",
       "698    An exciting career awaits you  At MPC, we're c...\n",
       "700    We are looking for a expert level and experien...\n",
       "Name: description, Length: 327, dtype: object"
      ]
     },
     "execution_count": 20,
     "metadata": {},
     "output_type": "execute_result"
    }
   ],
   "source": [
    "df['description']"
   ]
  },
  {
   "cell_type": "code",
   "execution_count": 21,
   "id": "fb6f63e0",
   "metadata": {},
   "outputs": [],
   "source": [
    "# Visualize the distribution of words use in job descriptions\n",
    "\n",
    "# Create a new column called word count\n",
    "df['word_count'] = df['description'].str.split().str.len()"
   ]
  },
  {
   "cell_type": "code",
   "execution_count": 22,
   "id": "c073347e",
   "metadata": {},
   "outputs": [
    {
     "data": {
      "text/plain": [
       "count     327.000000\n",
       "mean      668.584098\n",
       "std       287.396113\n",
       "min        37.000000\n",
       "10%       301.000000\n",
       "20%       408.200000\n",
       "30%       491.000000\n",
       "40%       583.400000\n",
       "50%       660.000000\n",
       "60%       761.600000\n",
       "70%       828.000000\n",
       "80%       904.600000\n",
       "90%      1026.800000\n",
       "100%     1481.000000\n",
       "max      1481.000000\n",
       "Name: word_count, dtype: float64"
      ]
     },
     "execution_count": 22,
     "metadata": {},
     "output_type": "execute_result"
    }
   ],
   "source": [
    "summary = df['word_count'].describe(percentiles = [0.10, 0.20, 0.30, 0.40, 0.50, 0.60, 0.70, 0.80, 0.90, 1.00])\n",
    "summary"
   ]
  },
  {
   "cell_type": "code",
   "execution_count": 23,
   "id": "f875a415",
   "metadata": {},
   "outputs": [
    {
     "data": {
      "image/png": "[encoded data removed]",
      "text/plain": [
       "<Figure size 432x288 with 1 Axes>"
      ]
     },
     "metadata": {
      "needs_background": "light"
     },
     "output_type": "display_data"
    }
   ],
   "source": [
    "# Plot the distribution of the word numbers per description\n",
    "df['word_count'].plot.hist(xticks = [0, 200, 400, 600, 800, 1000, 1200, 1400, 1600], bins = 100, range = [0, 1600]).axvline(x= summary['100%'], c = 'red')\n",
    "\n",
    "plt.xlabel('Number of Words')\n",
    "plt.ylabel('Frequency')\n",
    "plt.title('Distribution of number of words used in job descriptions')\n",
    "plt.show()"
   ]
  },
  {
   "cell_type": "code",
   "execution_count": 25,
   "id": "23ede61e",
   "metadata": {},
   "outputs": [
    {
     "name": "stdout",
     "output_type": "stream",
     "text": [
      "Collecting fuzzywuzzy\n",
      "  Downloading fuzzywuzzy-0.18.0-py2.py3-none-any.whl (18 kB)\n",
      "Installing collected packages: fuzzywuzzy\n",
      "Successfully installed fuzzywuzzy-0.18.0\n"
     ]
    },
    {
     "name": "stderr",
     "output_type": "stream",
     "text": [
      "C:\\Users\\sheldon\\anaconda3.0\\lib\\site-packages\\fuzzywuzzy\\fuzz.py:11: UserWarning: Using slow pure-python SequenceMatcher. Install python-Levenshtein to remove this warning\n",
      "  warnings.warn('Using slow pure-python SequenceMatcher. Install python-Levenshtein to remove this warning')\n"
     ]
    }
   ],
   "source": [
    "!pip install fuzzywuzzy\n",
    "from fuzzywuzzy import fuzz\n",
    "\n",
    "# list of skills to match\n",
    "tools = [\"Python\",\"R\",\"SQL\",\"Jupyter\",\"NumPy\",\"Pandas\",\"Matplotlib\",\"Seaborn\",\n",
    "                      \"SciPy\",\"Scikit-Learn\",\"TensorFlow\",\"PyTorch\",\"Keras\",\"XGBoost\",\"LightGBM\",\n",
    "                      \"Plotly\",\"Dask\",\"Spark\",\"Hadoop\",\"AWS\",\"Google Cloud\",\n",
    "                      \"Azure\",\"IBM Watson\",\"NLTK\",\"OpenCV\",\"Gensim\",\"StatsModels\",\n",
    "                      \"Theano\",\"Caffe\",\"Keras-Tuner\",\"Auto-Keras\",\"Auto-Sklearn\",\"Shap\",\"ELI5\",\"Bokeh\",\n",
    "                      \"Folium\",\"ggplot\",\"plotnine\",\"Geopandas\",\"Datashader\",\"Yellowbrick\",\"H2O.ai\",\"Flask\",\n",
    "                      \"Dash\",\"Streamlit\",\"FastAPI\",\"PySpark\",\"TensorBoard\",\"cuDF\",\"NetworkX\",\"BeautifulSoup\",\n",
    "                      \"Scrapy\",\"Numba\",\"Cython\", \"Apache\", \"Git\"]\n",
    "\n",
    "def match_phrases(description, phrases):\n",
    "    matched_phrase = [phrase for phrase in phrases if fuzz.partial_token_set_ratio(description, phrase) >= 90]\n",
    "    # Only return matches once\n",
    "    unique_matches = list(set(matched_phrase))\n",
    "    return unique_matches\n",
    "\n",
    "df['Tools'] = df['description'].apply(lambda x: match_phrases(x, tools))"
   ]
  },
  {
   "cell_type": "code",
   "execution_count": 27,
   "id": "8a9a883a",
   "metadata": {},
   "outputs": [],
   "source": [
    "import collections\n",
    "# Visualization functions\n",
    "    \n",
    "# Function used to generate countplot \n",
    "def generate_countplot(df, column, top_n = None):\n",
    "    words = [word for row in df[column] for word in row]\n",
    "    \n",
    "    counter = collections.Counter(words)\n",
    "    \n",
    "    top_n_words = [word for word, count in counter.most_common(top_n)]\n",
    "    \n",
    "    plt.figure(figsize = (10,5))\n",
    "    \n",
    "    sns.countplot(x = words, order = top_n_words)\n",
    "    plt.xlabel(column)\n",
    "    plt.ylabel('Count')\n",
    "    plt.xticks(rotation = 90)\n",
    "    plt.show()"
   ]
  },
  {
   "cell_type": "code",
   "execution_count": 28,
   "id": "25abbb2f",
   "metadata": {},
   "outputs": [
    {
     "data": {
      "image/png": "[encoded data removed]",
      "text/plain": [
       "<Figure size 720x360 with 1 Axes>"
      ]
     },
     "metadata": {
      "needs_background": "light"
     },
     "output_type": "display_data"
    }
   ],
   "source": [
    "generate_countplot(df, 'Tools', 20)"
   ]
  },
  {
   "cell_type": "code",
   "execution_count": 30,
   "id": "6e5d319f",
   "metadata": {},
   "outputs": [],
   "source": [
    "tasks = [\"Python programming\", \"Statistics\" ,\"Probability\", \"Machine learning\",\"Data visualization\",\"preprocessing\" \"cleaning\",\"database management\", \"analysis\", \"modeling\",    \n",
    "         \"Deep learning\",\"Data engineering\", \"visualization\", \"manipulation\", \"Machine learning\", \"storage\", \"Cloud computing\", \"ETL\",    \n",
    "         \"warehousing\",\"governance\", \"security\",\"storytelling\", \"product development\", \"Natural language processing\", \"NLP\",    \n",
    "         \"Computer vision\", \"Business intelligence\", \"mining\",\"feature engineering\", \"Time series analysis\", \"Regression analysis\", \"Classification algorithms\",    \n",
    "         \"Clustering algorithms\", \"Neural networks\", \"Decision trees\", \"random forests\", \"Support vector machines\", \"SVM\", \"K-nearest neighbors\", \"KNN\", \"Reinforcement learning\",\"Hyperparameter tuning\",    \n",
    "         \"Ensemble learning\", \"Transfer learning\", \"Unsupervised learning\",\"Supervised learning\",\"Exploratory data analysis\", \"EDA\", \"quality control\",    \n",
    "         \"Data interpretation\", \"Collaboration\", \"communication\", \"Project management\", \"Agile development\", \"Software engineering\", \"Version control\", \"Debugging\", \"troubleshooting\",\n",
    "         \"Continuous integration and deployment (CI/CD)\", \"optimization\", 'deployment']\n",
    "\n",
    "df['Skills'] = df['description'].apply(lambda x: match_phrases(x, tasks))"
   ]
  },
  {
   "cell_type": "code",
   "execution_count": 31,
   "id": "eec9f2de",
   "metadata": {},
   "outputs": [
    {
     "data": {
      "image/png": "[encoded data removed]",
      "text/plain": [
       "<Figure size 720x360 with 1 Axes>"
      ]
     },
     "metadata": {
      "needs_background": "light"
     },
     "output_type": "display_data"
    }
   ],
   "source": [
    "generate_countplot(df, 'Skills', 20)"
   ]
  },
  {
   "cell_type": "code",
   "execution_count": 32,
   "id": "dae34d63",
   "metadata": {},
   "outputs": [],
   "source": [
    "import re \n",
    "from fuzzywuzzy import fuzz\n",
    "\n",
    "def extract_years_of_experience(description):\n",
    "    # Regular expression pattern to match the years of experience information\n",
    "    pattern = re.compile(r'(\\d+\\+?\\s*years?\\s*of\\s*experience)', re.IGNORECASE)\n",
    "    \n",
    "    # search for the pattern in the job description\n",
    "    match = re.search(pattern, description)\n",
    "    \n",
    "    # if there is a match, return the matched string\n",
    "    if match:\n",
    "        return match.group(0)\n",
    "    else:\n",
    "        return \"Not Specified\"\n",
    "    \n",
    "df['Years_of_Experience'] = df['description'].apply(extract_years_of_experience)"
   ]
  },
  {
   "cell_type": "code",
   "execution_count": 33,
   "id": "f23d6c99",
   "metadata": {},
   "outputs": [
    {
     "data": {
      "text/plain": [
       "Not Specified              244\n",
       "2+ years of experience      14\n",
       "5+ years of experience      14\n",
       "3+ years of experience       8\n",
       "3 years of experience        8\n",
       "4+ years of experience       6\n",
       "10 years of experience       4\n",
       "2 years of experience        4\n",
       "7 years of experience        4\n",
       "7+ years of experience       3\n",
       "5 years of experience        3\n",
       "4 years of experience        3\n",
       "6+ years of experience       3\n",
       "10+ years of experience      2\n",
       "8+ years of experience       2\n",
       "5  years of experience       1\n",
       "6 years of experience        1\n",
       "12 years of experience       1\n",
       "1 year of experience         1\n",
       "8 years of experience        1\n",
       "Name: Years_of_Experience, dtype: int64"
      ]
     },
     "execution_count": 33,
     "metadata": {},
     "output_type": "execute_result"
    }
   ],
   "source": [
    "df['Years_of_Experience'].value_counts()"
   ]
  },
  {
   "cell_type": "code",
   "execution_count": 34,
   "id": "0f7b151b",
   "metadata": {},
   "outputs": [],
   "source": [
    "import re \n",
    "from fuzzywuzzy import fuzz\n",
    "\n",
    "def extract_years_of_experience(description):\n",
    "    # Regular expression pattern to match the years of experience information\n",
    "    pattern = re.compile(r'(\\d+)\\s*years?', re.IGNORECASE)\n",
    "    \n",
    "    # search for the pattern in the job description\n",
    "    match = re.search(pattern, description)\n",
    "    \n",
    "    # if there is a match, return the matched string\n",
    "    if match:\n",
    "        return match.group(0)\n",
    "    else:\n",
    "        return \"Not Specified\"\n",
    "    \n",
    "df['Years_of_Experience'] = df['description'].apply(extract_years_of_experience)"
   ]
  },
  {
   "cell_type": "code",
   "execution_count": 35,
   "id": "bf94b08a",
   "metadata": {},
   "outputs": [
    {
     "data": {
      "text/plain": [
       "Not Specified    212\n",
       "3 years           22\n",
       "5 years           18\n",
       "2 years           12\n",
       "7 years           12\n",
       "6 years           10\n",
       "10 years           8\n",
       "8 years            6\n",
       "4 years            5\n",
       "18 years           4\n",
       "1 year             4\n",
       "12 years           2\n",
       "125 years          2\n",
       "237 years          2\n",
       "5  years           1\n",
       "25 years           1\n",
       "30 years           1\n",
       "2 Years            1\n",
       "9 years            1\n",
       "50 years           1\n",
       "55 years           1\n",
       "60 years           1\n",
       "Name: Years_of_Experience, dtype: int64"
      ]
     },
     "execution_count": 35,
     "metadata": {},
     "output_type": "execute_result"
    }
   ],
   "source": [
    "df['Years_of_Experience'].value_counts()"
   ]
  },
  {
   "cell_type": "code",
   "execution_count": 36,
   "id": "17aedf56",
   "metadata": {},
   "outputs": [
    {
     "data": {
      "text/plain": [
       "0      212\n",
       "3       22\n",
       "5       19\n",
       "2       13\n",
       "7       12\n",
       "6       10\n",
       "10       8\n",
       "8        6\n",
       "4        5\n",
       "18       4\n",
       "1        4\n",
       "12       2\n",
       "125      2\n",
       "237      2\n",
       "25       1\n",
       "30       1\n",
       "9        1\n",
       "50       1\n",
       "55       1\n",
       "60       1\n",
       "Name: years, dtype: int64"
      ]
     },
     "execution_count": 36,
     "metadata": {},
     "output_type": "execute_result"
    }
   ],
   "source": [
    "# Extract just the numbers using regular expression\n",
    "df['years'] = df['Years_of_Experience'].str.extract(r'(\\d+)').fillna(0).astype(int)\n",
    "df['years'].value_counts()"
   ]
  },
  {
   "cell_type": "code",
   "execution_count": 37,
   "id": "7e0f254f",
   "metadata": {},
   "outputs": [
    {
     "data": {
      "text/plain": [
       "Not Specified    225\n",
       "1 to 3 years      39\n",
       "4 to 6 years      34\n",
       "6+ years          29\n",
       "Name: experience, dtype: int64"
      ]
     },
     "execution_count": 37,
     "metadata": {},
     "output_type": "execute_result"
    }
   ],
   "source": [
    "df['experience'] = df['years'].apply(lambda x: 'Not Specified' if x == 0 or x >= 18\n",
    "                                    else ('1 to 3 years' if x >= 1 and x <= 3\n",
    "                                    else ('4 to 6 years' if x >= 4 and x <= 6 \n",
    "                                    else '6+ years')))\n",
    "df['experience'].value_counts()"
   ]
  },
  {
   "cell_type": "code",
   "execution_count": 38,
   "id": "d55e23e3",
   "metadata": {},
   "outputs": [
    {
     "data": {
      "text/plain": [
       "<AxesSubplot:xlabel='experience', ylabel='count'>"
      ]
     },
     "execution_count": 38,
     "metadata": {},
     "output_type": "execute_result"
    },
    {
     "data": {
      "image/png": "[encoded data removed]",
      "text/plain": [
       "<Figure size 720x360 with 1 Axes>"
      ]
     },
     "metadata": {
      "needs_background": "light"
     },
     "output_type": "display_data"
    }
   ],
   "source": [
    "plt.figure(figsize = (10,5))\n",
    "sns.countplot(x = 'experience', data = df[df['experience'] != 'Not Specified'])"
   ]
  },
  {
   "cell_type": "code",
   "execution_count": 39,
   "id": "11ce4a1a",
   "metadata": {},
   "outputs": [
    {
     "data": {
      "image/png": "[encoded data removed]",
      "text/plain": [
       "<Figure size 720x360 with 1 Axes>"
      ]
     },
     "metadata": {
      "needs_background": "light"
     },
     "output_type": "display_data"
    }
   ],
   "source": [
    "# Set size of figure\n",
    "plt.figure(figsize = (10,5))\n",
    "\n",
    "sns.countplot(data = df[df['experience'] != 'Not Specified'], x = 'title', hue = 'experience')\n",
    "# rotate the x-axis labels by 90 degrees\n",
    "plt.xticks(rotation = 90)\n",
    "plt.legend(loc = 'upper right')\n",
    "plt.show()"
   ]
  },
  {
   "cell_type": "code",
   "execution_count": 40,
   "id": "4fa5ad9f",
   "metadata": {},
   "outputs": [],
   "source": [
    "import re \n",
    "import fuzzywuzzy\n",
    "from fuzzywuzzy import fuzz\n",
    "\n",
    "def extract_education_level(description):\n",
    "    # Dictionary that maps education levels to their abbreviations\n",
    "    education_levels = {\n",
    "        'bachelor': ['bs', 'bachelor'],\n",
    "        'master': ['ms', 'master'],\n",
    "        'phd': ['phd'],\n",
    "        'doctorate': ['doctorate']\n",
    "    }\n",
    "    # initialize the education level and maximum ratio to 0\n",
    "    education_level = None\n",
    "    max_ratio = 0\n",
    "    # iterate over the education levels and their abbreviations\n",
    "    for level, abbreviations in education_levels.items():\n",
    "        level_variants = [level] + abbreviations\n",
    "        for variant in level_variants:\n",
    "            # calculate the fuzzy matching ratio between the variant and the job description\n",
    "            ratio = fuzz.partial_token_set_ratio(variant, description)\n",
    "            if ratio > max_ratio:\n",
    "                max_ratio = ratio\n",
    "                education_level = level\n",
    "    if max_ratio >= 80:\n",
    "        return education_level\n",
    "    else:\n",
    "         return 'Not Specified'\n",
    "    \n",
    "df['Education_Level'] = df['description'].apply(extract_education_level)"
   ]
  },
  {
   "cell_type": "code",
   "execution_count": 41,
   "id": "2c027d91",
   "metadata": {},
   "outputs": [
    {
     "data": {
      "text/plain": [
       "<AxesSubplot:xlabel='Education_Level', ylabel='count'>"
      ]
     },
     "execution_count": 41,
     "metadata": {},
     "output_type": "execute_result"
    },
    {
     "data": {
      "image/png": "[encoded data removed]",
      "text/plain": [
       "<Figure size 720x360 with 1 Axes>"
      ]
     },
     "metadata": {
      "needs_background": "light"
     },
     "output_type": "display_data"
    }
   ],
   "source": [
    "plt.figure(figsize = (10,5))\n",
    "sns.countplot(x = 'Education_Level', data = df[df['Education_Level'] != 'Not Specified'])"
   ]
  },
  {
   "cell_type": "code",
   "execution_count": 42,
   "id": "3c6971d6",
   "metadata": {},
   "outputs": [
    {
     "data": {
      "image/png": "[encoded data removed]",
      "text/plain": [
       "<Figure size 720x360 with 1 Axes>"
      ]
     },
     "metadata": {
      "needs_background": "light"
     },
     "output_type": "display_data"
    }
   ],
   "source": [
    "# Set size of figure\n",
    "plt.figure(figsize = (10,5))\n",
    "\n",
    "sns.countplot(data = df[df['Education_Level'] != 'Not Specified'], x = 'title', hue = 'Education_Level')\n",
    "# rotate the x-axis labels by 90 degrees\n",
    "plt.xticks(rotation = 90)\n",
    "plt.legend(loc = 'upper right')\n",
    "plt.show()"
   ]
  },
  {
   "cell_type": "code",
   "execution_count": null,
   "id": "bf3dc507",
   "metadata": {},
   "outputs": [],
   "source": [
    "Conclusion\n",
    "In conclusion, by analyzing data science job postings posted in 2023, we can gain valuable insights into the current \n",
    "state of the field and the skills and requirements that are in high demand. Whether you are a job seeker or an employer,\n",
    "this information can help you make informed decisions about your future in the world of data science."
   ]
  }
 ],
 "metadata": {
  "kernelspec": {
   "display_name": "Python 3 (ipykernel)",
   "language": "python",
   "name": "python3"
  },
  "language_info": {
   "codemirror_mode": {
    "name": "ipython",
    "version": 3
   },
   "file_extension": ".py",
   "mimetype": "text/x-python",
   "name": "python",
   "nbconvert_exporter": "python",
   "pygments_lexer": "ipython3",
   "version": "3.9.7"
  }
 },
 "nbformat": 4,
 "nbformat_minor": 5
}
